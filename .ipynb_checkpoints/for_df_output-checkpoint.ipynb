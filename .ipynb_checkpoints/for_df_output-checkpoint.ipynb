{
 "cells": [
  {
   "cell_type": "code",
   "execution_count": 1,
   "metadata": {},
   "outputs": [],
   "source": [
    "# -*- coding: utf-8 -*- \n",
    "import pandas as pd\n",
    "\n",
    "from crawling import crawl as cr\n",
    "import utilfunc as ut\n",
    "import noun_proc as pr\n",
    "\n",
    "\n",
    "#######################\n",
    "### PLEASE TYPE URL ###  \n",
    "#######################\n",
    "\n",
    "default_url = 'https://news.naver.com/main/read.nhn?mode=LSD&mid=shm&sid1=102&oid=009&aid=0004704439'\n",
    "# url = input(\"TYPE THE URL OF NAVER NEWS: \")\n",
    "\n",
    "def main(URL, ST1, ST2, ST3, ST4, k):\n",
    "    boo, title, article, comments, likes, dislikes, replys = cr.crawling(URL)\n",
    "    if boo:\n",
    "        dfIn = sub(title, article, comments, likes, dislikes, replys, k)\n",
    "        dfIn[6] = ST1*dfIn[2] + ST2*dfIn[3] + ST3*dfIn[4] + ST4*dfIn[5]\n",
    "        result = dfIn[[0,1,6]]\n",
    "        result.columns = ['initial_num', 'comment', 'score']\n",
    "        # result.sort_values(by='score', ascending=False)\n",
    "        result = result.values.tolist()\n",
    "        return result, dfIn\n",
    "    else:\n",
    "        print(\"Oh this article cannot be processed\")\n",
    "        return\n",
    "\n",
    "def sub(title, article, comments, likes, dislikes, replys, k):\n",
    "    article = pr.article_proc(article)\n",
    "    num = [n+1 for n in range(len(comments))]\n",
    "\n",
    "    textRank = ut.com_to_trscore(article, comments)\n",
    "    # values for similarity\n",
    "    jaccard = []\n",
    "    cosine = []\n",
    "    euclidean = []\n",
    "    for comment in comments:\n",
    "        jaccard.append(pr.nonset_jac_sim(article,comment))\n",
    "        tfidf_matrix = pr.tfid_vectorize(article,comment)\n",
    "        cosine.append(pr.cos_sim(tfidf_matrix))\n",
    "        euclidean.append(pr.nor_euc_dis(tfidf_matrix))\n",
    "\n",
    "    val_list1 = cr.norm_data(cr.log_scale(replys, 2))\n",
    "    val_list2 = cr.norm_data(cr.log_scale(pr.list_calculate(likes,dislikes,k), 2))\n",
    "    val_list3 = cr.norm_data(pr.list_calculate(textRank, jaccard, -2)) \n",
    "    val_list4 = pr.list_calculate(cr.norm_rank(cosine, True), cr.norm_rank(euclidean, False), 2)\n",
    "\n",
    "    # SHOULD we set this numbers\n",
    "    a, b, c, d = 1, 1, 1, 1\n",
    "    default = [num, comments, val_list1, val_list2, val_list3, val_list4]\n",
    "    df = pd.DataFrame(default)\n",
    "    df = df.T\n",
    "    df = df.fillna(0)\n",
    "    df[2] = a*df[2]\n",
    "    df[3] = b*df[3]\n",
    "    df[4] = c*df[4]\n",
    "    df[5] = d*df[5]\n",
    "    return df"
   ]
  },
  {
   "cell_type": "code",
   "execution_count": 2,
   "metadata": {},
   "outputs": [],
   "source": [
    "# main() : main(URL, ST1, ST2, ST3, ST4, k)\n",
    "result, dfIn = main(default_url, 1, 1, 1, 1, 1)"
   ]
  },
  {
   "cell_type": "code",
   "execution_count": 19,
   "metadata": {
    "scrolled": false
   },
   "outputs": [],
   "source": [
    "new_df = dfIn[[0,2,3,4,5,6,1]]\n",
    "new_df.columns = ['initial_num', 'A_reply', 'B_like', 'C_keyword', 'D_similarity', 'score', 'comment']\n",
    "new_df\n",
    "new_df.to_csv(\"orgin.tsv\", sep = '\\t')\n",
    "new_df.sort_values('score', ascending=False).to_csv('sorted.tsv', sep = '\\t')"
   ]
  },
  {
   "cell_type": "code",
   "execution_count": null,
   "metadata": {},
   "outputs": [],
   "source": []
  },
  {
   "cell_type": "code",
   "execution_count": null,
   "metadata": {},
   "outputs": [],
   "source": []
  }
 ],
 "metadata": {
  "kernelspec": {
   "display_name": "Python 3",
   "language": "python",
   "name": "python3"
  },
  "language_info": {
   "codemirror_mode": {
    "name": "ipython",
    "version": 3
   },
   "file_extension": ".py",
   "mimetype": "text/x-python",
   "name": "python",
   "nbconvert_exporter": "python",
   "pygments_lexer": "ipython3",
   "version": "3.9.0"
  }
 },
 "nbformat": 4,
 "nbformat_minor": 4
}
