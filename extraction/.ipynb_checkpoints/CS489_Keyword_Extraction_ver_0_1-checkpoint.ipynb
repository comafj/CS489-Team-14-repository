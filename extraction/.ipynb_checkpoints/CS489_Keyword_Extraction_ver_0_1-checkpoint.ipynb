{
 "cells": [
  {
   "cell_type": "code",
   "execution_count": 1,
   "metadata": {
    "colab": {
     "base_uri": "https://localhost:8080/"
    },
    "id": "uJ_w2mP0mM3G",
    "outputId": "8db0e125-30b7-45ab-9c30-2fdfe868c721"
   },
   "outputs": [
    {
     "name": "stdout",
     "output_type": "stream",
     "text": [
      "Requirement already satisfied: konlpy in c:\\users\\public\\anaconda3\\lib\\site-packages (0.5.2)\n",
      "Requirement already satisfied: JPype1>=0.7.0 in c:\\users\\public\\anaconda3\\lib\\site-packages (from konlpy) (0.7.5)\n",
      "Requirement already satisfied: colorama in c:\\users\\public\\anaconda3\\lib\\site-packages (from konlpy) (0.4.1)\n",
      "Requirement already satisfied: tweepy>=3.7.0 in c:\\users\\public\\anaconda3\\lib\\site-packages (from konlpy) (3.8.0)\n",
      "Requirement already satisfied: lxml>=4.1.0 in c:\\users\\public\\anaconda3\\lib\\site-packages (from konlpy) (4.3.2)\n",
      "Requirement already satisfied: beautifulsoup4==4.6.0 in c:\\users\\public\\anaconda3\\lib\\site-packages (from konlpy) (4.6.0)\n",
      "Requirement already satisfied: numpy>=1.6 in c:\\users\\public\\anaconda3\\lib\\site-packages (from konlpy) (1.16.2)\n",
      "Requirement already satisfied: PySocks>=1.5.7 in c:\\users\\public\\anaconda3\\lib\\site-packages (from tweepy>=3.7.0->konlpy) (1.6.8)\n",
      "Requirement already satisfied: requests-oauthlib>=0.7.0 in c:\\users\\public\\anaconda3\\lib\\site-packages (from tweepy>=3.7.0->konlpy) (1.3.0)\n",
      "Requirement already satisfied: six>=1.10.0 in c:\\users\\public\\anaconda3\\lib\\site-packages (from tweepy>=3.7.0->konlpy) (1.12.0)\n",
      "Requirement already satisfied: requests>=2.11.1 in c:\\users\\public\\anaconda3\\lib\\site-packages (from tweepy>=3.7.0->konlpy) (2.21.0)\n",
      "Requirement already satisfied: oauthlib>=3.0.0 in c:\\users\\public\\anaconda3\\lib\\site-packages (from requests-oauthlib>=0.7.0->tweepy>=3.7.0->konlpy) (3.1.0)\n",
      "Requirement already satisfied: urllib3<1.25,>=1.21.1 in c:\\users\\public\\anaconda3\\lib\\site-packages (from requests>=2.11.1->tweepy>=3.7.0->konlpy) (1.24.1)\n",
      "Requirement already satisfied: chardet<3.1.0,>=3.0.2 in c:\\users\\public\\anaconda3\\lib\\site-packages (from requests>=2.11.1->tweepy>=3.7.0->konlpy) (3.0.4)\n",
      "Requirement already satisfied: idna<2.9,>=2.5 in c:\\users\\public\\anaconda3\\lib\\site-packages (from requests>=2.11.1->tweepy>=3.7.0->konlpy) (2.8)\n",
      "Requirement already satisfied: certifi>=2017.4.17 in c:\\users\\public\\anaconda3\\lib\\site-packages (from requests>=2.11.1->tweepy>=3.7.0->konlpy) (2019.3.9)\n"
     ]
    },
    {
     "name": "stderr",
     "output_type": "stream",
     "text": [
      "WARNING: You are using pip version 20.2.2; however, version 20.2.4 is available.\n",
      "You should consider upgrading via the 'c:\\users\\public\\anaconda3\\python.exe -m pip install --upgrade pip' command.\n"
     ]
    },
    {
     "name": "stdout",
     "output_type": "stream",
     "text": [
      "Requirement already satisfied: newspaper3k in c:\\users\\public\\anaconda3\\lib\\site-packages (0.2.8)\n",
      "Requirement already satisfied: feedparser>=5.2.1 in c:\\users\\public\\anaconda3\\lib\\site-packages (from newspaper3k) (6.0.2)\n",
      "Requirement already satisfied: jieba3k>=0.35.1 in c:\\users\\public\\anaconda3\\lib\\site-packages (from newspaper3k) (0.35.1)\n",
      "Requirement already satisfied: tldextract>=2.0.1 in c:\\users\\public\\anaconda3\\lib\\site-packages (from newspaper3k) (3.0.2)\n",
      "Requirement already satisfied: nltk>=3.2.1 in c:\\users\\public\\anaconda3\\lib\\site-packages (from newspaper3k) (3.4)\n",
      "Requirement already satisfied: python-dateutil>=2.5.3 in c:\\users\\public\\anaconda3\\lib\\site-packages (from newspaper3k) (2.8.0)\n",
      "Requirement already satisfied: feedfinder2>=0.0.4 in c:\\users\\public\\anaconda3\\lib\\site-packages (from newspaper3k) (0.0.4)\n",
      "Requirement already satisfied: lxml>=3.6.0 in c:\\users\\public\\anaconda3\\lib\\site-packages (from newspaper3k) (4.3.2)\n",
      "Requirement already satisfied: Pillow>=3.3.0 in c:\\users\\public\\anaconda3\\lib\\site-packages (from newspaper3k) (5.4.1)\n",
      "Requirement already satisfied: cssselect>=0.9.2 in c:\\users\\public\\anaconda3\\lib\\site-packages (from newspaper3k) (1.1.0)\n",
      "Requirement already satisfied: beautifulsoup4>=4.4.1 in c:\\users\\public\\anaconda3\\lib\\site-packages (from newspaper3k) (4.6.0)\n",
      "Requirement already satisfied: PyYAML>=3.11 in c:\\users\\public\\anaconda3\\lib\\site-packages (from newspaper3k) (5.1)\n",
      "Requirement already satisfied: tinysegmenter==0.3 in c:\\users\\public\\anaconda3\\lib\\site-packages (from newspaper3k) (0.3)\n",
      "Requirement already satisfied: requests>=2.10.0 in c:\\users\\public\\anaconda3\\lib\\site-packages (from newspaper3k) (2.21.0)\n",
      "Requirement already satisfied: sgmllib3k in c:\\users\\public\\anaconda3\\lib\\site-packages (from feedparser>=5.2.1->newspaper3k) (1.0.0)\n",
      "Requirement already satisfied: filelock>=3.0.8 in c:\\users\\public\\anaconda3\\lib\\site-packages (from tldextract>=2.0.1->newspaper3k) (3.0.10)\n",
      "Requirement already satisfied: idna in c:\\users\\public\\anaconda3\\lib\\site-packages (from tldextract>=2.0.1->newspaper3k) (2.8)\n",
      "Requirement already satisfied: requests-file>=1.4 in c:\\users\\public\\anaconda3\\lib\\site-packages (from tldextract>=2.0.1->newspaper3k) (1.5.1)\n",
      "Requirement already satisfied: six in c:\\users\\public\\anaconda3\\lib\\site-packages (from nltk>=3.2.1->newspaper3k) (1.12.0)\n",
      "Requirement already satisfied: singledispatch in c:\\users\\public\\anaconda3\\lib\\site-packages (from nltk>=3.2.1->newspaper3k) (3.4.0.3)\n",
      "Requirement already satisfied: chardet<3.1.0,>=3.0.2 in c:\\users\\public\\anaconda3\\lib\\site-packages (from requests>=2.10.0->newspaper3k) (3.0.4)\n",
      "Requirement already satisfied: certifi>=2017.4.17 in c:\\users\\public\\anaconda3\\lib\\site-packages (from requests>=2.10.0->newspaper3k) (2019.3.9)\n",
      "Requirement already satisfied: urllib3<1.25,>=1.21.1 in c:\\users\\public\\anaconda3\\lib\\site-packages (from requests>=2.10.0->newspaper3k) (1.24.1)\n"
     ]
    },
    {
     "name": "stderr",
     "output_type": "stream",
     "text": [
      "WARNING: You are using pip version 20.2.2; however, version 20.2.4 is available.\n",
      "You should consider upgrading via the 'c:\\users\\public\\anaconda3\\python.exe -m pip install --upgrade pip' command.\n"
     ]
    }
   ],
   "source": [
    "!pip install konlpy\n",
    "!pip install newspaper3k\n",
    "from konlpy.tag import Kkma\n",
    "from konlpy.tag import Okt\n",
    "from sklearn.feature_extraction.text import TfidfVectorizer\n",
    "from sklearn.feature_extraction.text import CountVectorizer\n",
    "from sklearn.preprocessing import normalize\n",
    "import numpy as np"
   ]
  },
  {
   "cell_type": "code",
   "execution_count": 2,
   "metadata": {},
   "outputs": [],
   "source": [
    "def newsfromtext(filename):\n",
    "    f = open(filename, 'r', encoding='utf-8')\n",
    "    news_body = f.read()\n",
    "    return news_body"
   ]
  },
  {
   "cell_type": "code",
   "execution_count": 3,
   "metadata": {},
   "outputs": [],
   "source": [
    "def sent_tokenize(text):\n",
    "    kkma = Kkma()\n",
    "    result = kkma.sentences(text)\n",
    "    return result"
   ]
  },
  {
   "cell_type": "code",
   "execution_count": 4,
   "metadata": {},
   "outputs": [],
   "source": [
    "def noun_extract(sentences):\n",
    "    okt = Okt()\n",
    "    result = []\n",
    "    for s in sentences:\n",
    "        for w in okt.nouns(s):\n",
    "            result.append(w)\n",
    "    return result"
   ]
  },
  {
   "cell_type": "code",
   "execution_count": 5,
   "metadata": {},
   "outputs": [],
   "source": [
    "class GraphMatrix(object):\n",
    "    def __init__(self):\n",
    "        self.tfidf = TfidfVectorizer()\n",
    "        self.cnt_vec = CountVectorizer()\n",
    "        self.graph_sentence = []\n",
    "        \n",
    "    def build_sent_graph(self, sentence):\n",
    "        tfidf_mat = self.tfidf.fit_transform(sentence).toarray()\n",
    "        self.graph_sentence = np.dot(tfidf_mat, tfidf_mat.T)\n",
    "        return self.graph_sentence\n",
    "    \n",
    "    def build_words_graph(self, sentence):\n",
    "        cnt_vec_mat = normalize(self.cnt_vec.fit_transform(sentence).toarray().astype(float), axis=0)\n",
    "        vocab = self.cnt_vec.vocabulary_\n",
    "        return np.dot(cnt_vec_mat.T, cnt_vec_mat), {vocab[word] : word for word in vocab}"
   ]
  },
  {
   "cell_type": "code",
   "execution_count": 6,
   "metadata": {},
   "outputs": [],
   "source": [
    "class Rank(object):\n",
    "    def get_ranks(self, graph, d=0.85): # d = damping factor\n",
    "        A = graph\n",
    "        matrix_size = A.shape[0]\n",
    "        for id in range(matrix_size):\n",
    "            A[id, id] = 0 # diagonal 부분을 0으로\n",
    "            link_sum = np.sum(A[:,id]) # A[:, id] = A[:][id]\n",
    "            if link_sum != 0:\n",
    "                A[:, id] /= link_sum\n",
    "            A[:, id] *= -d\n",
    "            A[id, id] = 1\n",
    "        \n",
    "        B = (1-d) * np.ones((matrix_size, 1))\n",
    "        ranks = np.linalg.solve(A, B) # 연립방정식 Ax = b\n",
    "        return {idx: r[0] for idx, r in enumerate(ranks)}"
   ]
  },
  {
   "cell_type": "code",
   "execution_count": 7,
   "metadata": {},
   "outputs": [],
   "source": [
    "class TextRank(object):\n",
    "    def __init__(self, text):\n",
    "        self.sentences = sent_tokenize(text)\n",
    "        self.nouns = noun_extract(self.sentences)\n",
    "        self.graph_matrix = GraphMatrix()\n",
    "        self.sent_graph = self.graph_matrix.build_sent_graph(self.nouns)\n",
    "        \n",
    "        self.words_graph, self.idx2word = self.graph_matrix.build_words_graph(self.nouns)\n",
    "        self.rank = Rank()\n",
    "        self.sent_rank_idx = self.rank.get_ranks(self.sent_graph)\n",
    "        self.sorted_sent_rank_idx = sorted(self.sent_rank_idx, key=lambda k: self.sent_rank_idx[k], reverse=True)\n",
    "        self.word_rank_idx = self.rank.get_ranks(self.words_graph)\n",
    "        self.sorted_word_rank_idx = sorted(self.word_rank_idx, key=lambda k: self.word_rank_idx[k], reverse=True)\n",
    "\n",
    "    def keywords(self, word_num=10):\n",
    "        rank = Rank()\n",
    "        rank_idx = rank.get_ranks(self.words_graph)\n",
    "        sorted_rank_idx = sorted(rank_idx, key=lambda k: rank_idx[k], reverse=True)\n",
    "        keywords = []\n",
    "        index=[]\n",
    "        for idx in sorted_rank_idx[:word_num]:\n",
    "            index.append(idx)\n",
    "        #index.sort()\n",
    "        for idx in index:\n",
    "            keywords.append(self.idx2word[idx])\n",
    "        return keywords"
   ]
  },
  {
   "cell_type": "code",
   "execution_count": 8,
   "metadata": {
    "colab": {
     "base_uri": "https://localhost:8080/"
    },
    "id": "wjKhPdxlmYWh",
    "outputId": "371c72a3-5521-4ff5-953a-56ed5006e7e6"
   },
   "outputs": [],
   "source": [
    "test = '트럼프가 주장한 부정선거랑 이번 우리나라 부정선거건은 아주 자연스럽게 연결될거 같네... ㅋㅋㅋㅋ... 재미있는 드라마 시작한다~~~~'\n",
    "#print(test)\n",
    "news_body = newsfromtext('news_body.txt')\n",
    "#print(news)"
   ]
  },
  {
   "cell_type": "code",
   "execution_count": 9,
   "metadata": {},
   "outputs": [],
   "source": [
    "abcd = TextRank(news_body)"
   ]
  },
  {
   "cell_type": "code",
   "execution_count": 10,
   "metadata": {},
   "outputs": [
    {
     "name": "stdout",
     "output_type": "stream",
     "text": [
      "['가능성', '가운데', '개선', '개시', '개표', '격전', '결과', '경우', '경제', '경합']\n"
     ]
    }
   ],
   "source": [
    "print(abcd.keywords())"
   ]
  },
  {
   "cell_type": "code",
   "execution_count": 54,
   "metadata": {
    "colab": {
     "base_uri": "https://localhost:8080/"
    },
    "id": "KBS8xZq9m2Fa",
    "outputId": "3378a601-81c0-457b-9187-612a0dbee111"
   },
   "outputs": [],
   "source": [
    "## TEST TEST TEST TEST TEST\n",
    "okt = Okt()\n",
    "#print(okt.nouns(test))\n",
    "#print(okt.nouns(news_body))\n",
    "sents = sent_tokenize(news_body)\n",
    "#print(sents)\n",
    "nss = noun_extract(sents)\n",
    "#print(nss)"
   ]
  },
  {
   "cell_type": "code",
   "execution_count": null,
   "metadata": {
    "id": "ypGBQaItnXoc"
   },
   "outputs": [],
   "source": []
  }
 ],
 "metadata": {
  "colab": {
   "name": "CS489 Keyword Extraction ver 0.1",
   "provenance": []
  },
  "kernelspec": {
   "display_name": "Python 3",
   "language": "python",
   "name": "python3"
  },
  "language_info": {
   "codemirror_mode": {
    "name": "ipython",
    "version": 3
   },
   "file_extension": ".py",
   "mimetype": "text/x-python",
   "name": "python",
   "nbconvert_exporter": "python",
   "pygments_lexer": "ipython3",
   "version": "3.7.3"
  }
 },
 "nbformat": 4,
 "nbformat_minor": 1
}
